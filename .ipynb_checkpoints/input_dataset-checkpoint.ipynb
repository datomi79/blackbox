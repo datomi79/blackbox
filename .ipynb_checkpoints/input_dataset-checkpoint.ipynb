{
 "cells": [
  {
   "cell_type": "code",
   "execution_count": 1,
   "metadata": {
    "collapsed": true
   },
   "outputs": [],
   "source": [
    "import csv\n",
    "import numpy as np\n",
    "import random\n",
    "random.seed(1234)"
   ]
  },
  {
   "cell_type": "code",
   "execution_count": 2,
   "metadata": {
    "collapsed": true
   },
   "outputs": [],
   "source": [
    "def read_hr_dataset(test_prop = 0.2):\n",
    "    with open('hr_dataset.csv', 'rt') as csvfile:\n",
    "        # import data via csv reader\n",
    "        spamreader = csv.reader(csvfile)\n",
    "        index, data = 0, []\n",
    "        for row in spamreader:\n",
    "            if index == 0 :\n",
    "                data_scheme = row\n",
    "                index += 1\n",
    "            else:\n",
    "                data.append(row)        \n",
    "        # one-hot-encoding for sales department\n",
    "        departs_list = list({row[-2] for row in data})\n",
    "        departs_list.sort()\n",
    "        d2n = dict(zip(departs_list, range(10)))\n",
    "        salary = {'low':-1, 'medium':0, 'high':1}\n",
    "        for row in data:\n",
    "            # convert salary into ordered scale\n",
    "            row[-1] = salary[row[-1]] \n",
    "            # convert department into one-hot-code\n",
    "            depart = row[-2]\n",
    "            row += one_hot(d2n[depart])\n",
    "            # delete original colume of sales department\n",
    "            del row[8]    \n",
    "        # Convert from string to numeric data\n",
    "        data = np.array(data, dtype = float)\n",
    "        # Random Shuffle the data to randomly select the train set and the test set \n",
    "        np.random.shuffle (data)\n",
    "        print (\"Data shape : \", data.shape)\n",
    "        \n",
    "        test_size = int (len(data)*test_prop)\n",
    "        DATA_TEST = data [:test_size]\n",
    "        DATA_TRAIN = data [test_size:]\n",
    "        \n",
    "        # Data Scheme\n",
    "        data_scheme_x = data_scheme.copy()\n",
    "        del data_scheme_x [-2]\n",
    "        del data_scheme_x [6]\n",
    "        data_scheme_x.extend(departs_list)\n",
    "        \n",
    "        data_scheme_y = [data_scheme[6]]\n",
    "        \n",
    "        print (\"X_SCHEME : \", data_scheme_x)\n",
    "        print (\"Y_SCHEME : \", data_scheme_y)\n",
    "        \n",
    "        X_TEST = np.hstack((DATA_TEST[:,:6],DATA_TEST[:,7:]))\n",
    "        Y_TEST = DATA_TEST[:,6].reshape(-1,1)\n",
    "        X_TRAIN = np.hstack((DATA_TRAIN[:,:6],DATA_TRAIN[:,7:]))\n",
    "        Y_TRAIN = DATA_TRAIN[:,6].reshape(-1,1)\n",
    "        print (\"X_TRAIN : \", X_TRAIN.shape)\n",
    "        print (\"Y_TRAIN : \", Y_TRAIN.shape)\n",
    "        print (\"X_TEST : \", X_TEST.shape)\n",
    "        print (\"Y_TEST : \", Y_TEST.shape)\n",
    "                  \n",
    "    return X_TRAIN, Y_TRAIN, X_TEST, Y_TEST"
   ]
  },
  {
   "cell_type": "code",
   "execution_count": 3,
   "metadata": {
    "collapsed": true,
    "scrolled": false
   },
   "outputs": [],
   "source": [
    "def one_hot(num):\n",
    "    'mapping from integer to one-hot encoding function'\n",
    "    one_hot = [0 for _ in range(10)]\n",
    "    one_hot[num] = 1\n",
    "    return one_hot"
   ]
  },
  {
   "cell_type": "code",
   "execution_count": 4,
   "metadata": {},
   "outputs": [
    {
     "name": "stdout",
     "output_type": "stream",
     "text": [
      "Data shape :  (14999, 19)\n",
      "X_SCHEME :  ['satisfaction_level', 'last_evaluation', 'number_project', 'average_montly_hours', 'time_spend_company', 'Work_accident', 'promotion_last_5years', 'salary', 'IT', 'RandD', 'accounting', 'hr', 'management', 'marketing', 'product_mng', 'sales', 'support', 'technical']\n",
      "Y_SCHEME :  ['left']\n",
      "X_TRAIN :  (12000, 18)\n",
      "Y_TRAIN :  (12000, 1)\n",
      "X_TEST :  (2999, 18)\n",
      "Y_TEST :  (2999, 1)\n"
     ]
    }
   ],
   "source": [
    "data = read_hr_dataset()"
   ]
  }
 ],
 "metadata": {
  "kernelspec": {
   "display_name": "tf_kernel",
   "language": "python",
   "name": "tf_kernel"
  },
  "language_info": {
   "codemirror_mode": {
    "name": "ipython",
    "version": 3
   },
   "file_extension": ".py",
   "mimetype": "text/x-python",
   "name": "python",
   "nbconvert_exporter": "python",
   "pygments_lexer": "ipython3",
   "version": "3.5.2"
  }
 },
 "nbformat": 4,
 "nbformat_minor": 2
}
