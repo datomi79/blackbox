{
 "cells": [
  {
   "cell_type": "code",
   "execution_count": 1,
   "metadata": {},
   "outputs": [
    {
     "name": "stderr",
     "output_type": "stream",
     "text": [
      "Using TensorFlow backend.\n"
     ]
    },
    {
     "name": "stdout",
     "output_type": "stream",
     "text": [
      "Import time : 6.45734715461731 seconds\n"
     ]
    }
   ],
   "source": [
    "\"\"\"\n",
    "Author contributed : LIN HSUAN YU\n",
    "This script is developed and tested under the following environment:\n",
    "- Tensorflow-GPU : 1.3.0\n",
    "- Keras : 2.0.7 \n",
    "- Python : 3.5.2\n",
    "- CUDA SDK : 8.0\n",
    "- cudnn : 5.1\n",
    "\"\"\"\n",
    "import time\n",
    "from input_dataset import read_hr_dataset\n",
    "t0 = t1 = time.time()\n",
    "import numpy as np\n",
    "import tensorflow as tf\n",
    "import keras\n",
    "from keras.models import Sequential, model_from_json\n",
    "from keras.layers import Dense, Activation\n",
    "import random, h5py\n",
    "t2 = time.time()\n",
    "random.seed(1234567890)\n",
    "print (\"Import time :\", t2-t1, \"seconds\")"
   ]
  },
  {
   "cell_type": "code",
   "execution_count": 2,
   "metadata": {
    "collapsed": true
   },
   "outputs": [],
   "source": [
    "# Set keras learning phase and backend\n",
    "keras.layers.core.K.set_learning_phase(0)\n",
    "config = tf.ConfigProto(device_count = {'GPU' : 0})\n",
    "sess = tf.InteractiveSession(config=config)\n",
    "keras.backend.set_session(sess)"
   ]
  },
  {
   "cell_type": "code",
   "execution_count": 3,
   "metadata": {},
   "outputs": [
    {
     "name": "stdout",
     "output_type": "stream",
     "text": [
      "Data shape :  (14999, 19)\n",
      "X_SCHEME :  ['satisfaction_level', 'last_evaluation', 'number_project', 'average_montly_hours', 'time_spend_company', 'Work_accident', 'promotion_last_5years', 'salary', 'IT', 'RandD', 'accounting', 'hr', 'management', 'marketing', 'product_mng', 'sales', 'support', 'technical']\n",
      "Y_SCHEME :  ['left']\n",
      "X_TRAIN :  (12000, 18)\n",
      "Y_TRAIN :  (12000, 1)\n",
      "X_TEST :  (2999, 18)\n",
      "Y_TEST :  (2999, 1)\n",
      "Data reading time : 0.11045050621032715 seconds\n"
     ]
    }
   ],
   "source": [
    "# Load data\n",
    "t1 = time.time()\n",
    "X_TRAIN, Y_TRAIN, X_TEST, Y_TEST = read_hr_dataset()\n",
    "t2 = time.time()\n",
    "print (\"Data reading time :\", t2-t1, \"seconds\")"
   ]
  },
  {
   "cell_type": "code",
   "execution_count": 4,
   "metadata": {},
   "outputs": [
    {
     "name": "stdout",
     "output_type": "stream",
     "text": [
      "Loading the oracle and the substitute\n"
     ]
    }
   ],
   "source": [
    "# Create new oracle and substitute which are identical to the original ones\n",
    "print (\"Loading the oracle and the substitute\")\n",
    "with open(\"model/oracle.json\", \"r\") as oracle_file:\n",
    "    new_oracle_json = oracle_file.read()\n",
    "with open(\"model/sub.json\", \"r\") as sub_file:\n",
    "    new_sub_json = sub_file.read()\n",
    "\n",
    "new_oracle = model_from_json(new_oracle_json)\n",
    "new_oracle.load_weights(\"model/oracle_weights.h5\")\n",
    "\n",
    "new_sub = model_from_json(new_sub_json)\n",
    "new_sub.load_weights(\"model/sub_weights.h5\")"
   ]
  },
  {
   "cell_type": "code",
   "execution_count": 5,
   "metadata": {},
   "outputs": [
    {
     "name": "stdout",
     "output_type": "stream",
     "text": [
      "Output of the oracle on the test set : [1 0 0 ..., 0 0 0]\n",
      "Accuracy of the oracle on the test set : 0.964988329443 \n",
      "\n",
      "Accuracy of the substitute on the prediction of oracle output : 0.962416666667\n",
      "Accuracy of the substitute on the prediction of real output : 0.9415\n"
     ]
    }
   ],
   "source": [
    "# Test new oracle (PASSED)\n",
    "output_test = new_oracle.predict(X_TEST, batch_size=2999, verbose=0)\n",
    "output_test = np.array([1 if num >= 0.5 else 0 for num in output_test])\n",
    "correct_list = np.array([1 if output == y else 0 for output,y in zip(output_test,Y_TEST)])\n",
    "print(\"Output of the oracle on the test set :\", output_test)\n",
    "print(\"Accuracy of the oracle on the test set :\", sum (correct_list)/2999, \"\\n\")\n",
    "\n",
    "# Test new substitute (PASSED)\n",
    "x = tf.placeholder(tf.float32, shape=[None, 18])\n",
    "y = tf.placeholder(tf.float32, shape=[None,1])\n",
    "y_pred = new_sub(x)\n",
    "prob = tf.sigmoid(y_pred)\n",
    "result = sess.run(prob, feed_dict={x:X_TRAIN})\n",
    "result = [1 if num > 0.5 else 0 for num in result]\n",
    "output = new_oracle.predict(X_TRAIN, batch_size=12000, verbose=0)\n",
    "output = np.array([1 if num >= 0.5 else 0 for num in output])\n",
    "correct_list = np.array([1 if output == y else 0 for output,y in zip(result, output)])\n",
    "print(\"Accuracy of the substitute on the prediction of oracle output :\",sum(correct_list)/12000)\n",
    "correct_list = np.array([1 if output == y else 0 for output,y in zip(result, Y_TRAIN)])\n",
    "print(\"Accuracy of the substitute on the prediction of real output :\",sum(correct_list)/12000)"
   ]
  },
  {
   "cell_type": "code",
   "execution_count": 6,
   "metadata": {},
   "outputs": [
    {
     "name": "stdout",
     "output_type": "stream",
     "text": [
      "Fast Gradient Sign Method based on L1 norm\n",
      "Adversarial samples generation took  110.68313717842102 seconds\n"
     ]
    }
   ],
   "source": [
    "# Initiate a blackbox attack with adversarial examples generating \n",
    "# from substitute model by Fast Gradient Sign Method (Default setting : L1 norm)\n",
    "\n",
    "# Define loss function of substitute model and calculate its gradients with respect to x\n",
    "loss = tf.reduce_mean(tf.nn.sigmoid_cross_entropy_with_logits(labels = y, logits = y_pred))\n",
    "grads = tf.gradients(loss, x)[0][0]\n",
    "\n",
    "# Set the parameter epsilon = 0.5 for FGSM (Only alter the first 5 terms , X0~X4)\n",
    "print (\"Fast Gradient Sign Method based on L1 norm\")\n",
    "t1 = time.time()\n",
    "epsilon, adv_X_TEST, adv_Y_TEST = 0.5, [], Y_TEST\n",
    "for i in range(len(X_TEST)):\n",
    "    grads_val = sess.run(grads, feed_dict={x:X_TEST[i].reshape(1,-1), y:Y_TEST[i].reshape(1,-1)})\n",
    "    grads_val = np.hstack((grads_val[:5], np.zeros(13)))\n",
    "    grads_l_1 = grads_val/(sum(abs(grads_val)))\n",
    "    grads_l_inf = sess.run(tf.sign(grads_val)) \n",
    "    \n",
    "    aug = grads_l_1 # set aug = grads_l_inf if L-infinity norm is adopted \n",
    "    adv_X_TEST.append(X_TEST[i] + epsilon * aug)\n",
    "\n",
    "adv_X_TEST = np.array(adv_X_TEST)\n",
    "print (\"Adversarial samples generation took \", time.time()-t1, \"seconds\")"
   ]
  },
  {
   "cell_type": "code",
   "execution_count": 7,
   "metadata": {},
   "outputs": [
    {
     "name": "stdout",
     "output_type": "stream",
     "text": [
      "Output of the oracle on the adversarial samples : [1 0 0 ..., 0 0 0]\n",
      "Accuracy of the oracle on the adversarial samples : 0.784261420473 \n",
      "\n"
     ]
    }
   ],
   "source": [
    "# Evaluate the accuarcy of the adversarial samples on the oracle\n",
    "output_test = new_oracle.predict(adv_X_TEST, batch_size=2999, verbose=0)\n",
    "output_test = np.array([1 if num >= 0.5 else 0 for num in output_test])\n",
    "correct_list = np.array([1 if output == y else 0 for output,y in zip(output_test,adv_Y_TEST)])\n",
    "print(\"Output of the oracle on the adversarial samples :\", output_test)\n",
    "print(\"Accuracy of the oracle on the adversarial samples :\", sum (correct_list)/2999, \"\\n\")"
   ]
  },
  {
   "cell_type": "code",
   "execution_count": 8,
   "metadata": {},
   "outputs": [
    {
     "name": "stdout",
     "output_type": "stream",
     "text": [
      "Output of the oracle on the random augmented samples : [1 0 0 ..., 0 0 0]\n",
      "Accuracy of the oracle on the random augmented samples : 0.93297765922 \n",
      "\n"
     ]
    }
   ],
   "source": [
    "# Evaluate the accuarcy of the random augmented samples on the oracle\n",
    "rand_X_TEST, rand_Y_TEST = [], Y_TEST\n",
    "for i in range(len(X_TEST)):\n",
    "    rands = np.random.random_sample((5,))\n",
    "    symbols = np.array([-1.0,1.0])\n",
    "    unit, signs = rands/sum(rands), np.random.choice(symbols, 5)\n",
    "    aug_rand = np.hstack(([num * sign for num, sign in zip (unit,signs)], np.zeros(13)))\n",
    "    rand_X_TEST.append(X_TEST[i] + epsilon * aug_rand)\n",
    "rand_X_TEST = np.array(rand_X_TEST)\n",
    "\n",
    "output_test = new_oracle.predict(rand_X_TEST, batch_size=2999, verbose=0)\n",
    "output_test = np.array([1 if num >= 0.5 else 0 for num in output_test])\n",
    "correct_list = np.array([1 if output == y else 0 for output,y in zip(output_test,rand_Y_TEST)])\n",
    "print(\"Output of the oracle on the random augmented samples :\", output_test)\n",
    "print(\"Accuracy of the oracle on the random augmented samples :\", sum (correct_list)/2999, \"\\n\")"
   ]
  },
  {
   "cell_type": "code",
   "execution_count": 9,
   "metadata": {
    "scrolled": true
   },
   "outputs": [
    {
     "name": "stdout",
     "output_type": "stream",
     "text": [
      "Total execution time : 117.88665008544922 seconds\n"
     ]
    }
   ],
   "source": [
    "print (\"Total execution time :\", time.time()-t0, \"seconds\")"
   ]
  }
 ],
 "metadata": {
  "kernelspec": {
   "display_name": "Python 3",
   "language": "python",
   "name": "python3"
  },
  "language_info": {
   "codemirror_mode": {
    "name": "ipython",
    "version": 3
   },
   "file_extension": ".py",
   "mimetype": "text/x-python",
   "name": "python",
   "nbconvert_exporter": "python",
   "pygments_lexer": "ipython3",
   "version": "3.5.2"
  }
 },
 "nbformat": 4,
 "nbformat_minor": 2
}
